{
 "cells": [
  {
   "cell_type": "markdown",
   "id": "44acbf67",
   "metadata": {},
   "source": [
    "# PCA of 1000 Genome Phase3 Genotype data\n",
    "\n",
    "Fan Wang\n",
    "\n",
    "*Please note: This notebook uses open access data*  \n",
    "*Please note: AnVIL RAS Login in the BRH Profile Page needs to be authorized*\n",
    "\n",
    "\n",
    "May 11 2022\n",
    "\n",
    "Principal components analysis (PCA) is a widely used method in the field of population genetics, providing a model-free method for exploring patterns of relatedness within a collection of individuals. In this notebook, we use the 1000 Genomes Project phase3 release of variant calls data to apply both conventional PCA analysis of the LD-pruned genotype data."
   ]
  },
  {
   "cell_type": "code",
   "execution_count": null,
   "id": "d8ecb5cd-945e-4abe-aaff-0477c70ef31a",
   "metadata": {
    "scrolled": true,
    "tags": []
   },
   "outputs": [],
   "source": [
    "!pip install matplotlib\n",
    "!pip install seaborn\n",
    "!pip install scikit-allel"
   ]
  },
  {
   "cell_type": "code",
   "execution_count": null,
   "id": "2005ffbe",
   "metadata": {},
   "outputs": [],
   "source": [
    "import random\n",
    "\n",
    "random.seed(42)\n",
    "import numpy as np\n",
    "\n",
    "np.random.seed(42)\n",
    "import matplotlib.pyplot as plt\n",
    "import seaborn as sns\n",
    "\n",
    "sns.set_style(\"white\")\n",
    "import pandas as pd\n",
    "import allel\n",
    "\n",
    "sns.set(style=\"ticks\", color_codes=True)\n",
    "get_ipython().run_line_magic(\"config\", \"InlineBackend.figure_format = 'svg'\")\n",
    "import warnings\n",
    "\n",
    "warnings.filterwarnings(\"ignore\")"
   ]
  },
  {
   "cell_type": "markdown",
   "id": "999be6df",
   "metadata": {},
   "source": [
    "##  SNP genotype data is available in a VCF file"
   ]
  },
  {
   "cell_type": "code",
   "execution_count": null,
   "id": "6749e2a6",
   "metadata": {},
   "outputs": [],
   "source": [
    "!gen3 drs-pull object dg.OADC/60afa140-d2ab-4e32-bf73-40bf48787655 --no-unpack-packages\n",
    "!gen3 drs-pull object dg.OADC/fded0c2c-8a18-413f-91e2-f132853ed91a --no-unpack-packages\n",
    "!gen3 drs-pull object dg.OADC/9baeeb42-563f-47fe-87f7-a6ae17fc3d20 --no-unpack-packages\n",
    "!gen3 drs-pull object dg.OADC/096880f8-07e4-4a76-ba53-b4b6402d4dc3 --no-unpack-packages"
   ]
  },
  {
   "cell_type": "code",
   "execution_count": null,
   "id": "213941ec",
   "metadata": {
    "scrolled": true
   },
   "outputs": [],
   "source": [
    "callset = allel.read_vcf(\"ALL.chrY.phase3_integrated_v2b.20130502.genotypes.vcf.gz\")\n",
    "pos = allel.SortedIndex(callset[\"variants/POS\"])\n",
    "loc_region = pos.locate_range(2655180, 28770931)"
   ]
  },
  {
   "cell_type": "code",
   "execution_count": null,
   "id": "a3fb5dcd",
   "metadata": {},
   "outputs": [],
   "source": [
    "gt_zarr = callset[\"calldata/GT\"]\n",
    "gt = allel.GenotypeArray(gt_zarr[loc_region])\n",
    "ac = gt.count_alleles()[:]"
   ]
  },
  {
   "cell_type": "code",
   "execution_count": null,
   "id": "3b630c9c",
   "metadata": {},
   "outputs": [],
   "source": [
    "flt = (ac.max_allele() == 1) & (ac[:, :2].min(axis=1) > 1)\n",
    "gf = gt.compress(flt, axis=0)\n",
    "gn = gf.to_n_alt()"
   ]
  },
  {
   "cell_type": "code",
   "execution_count": null,
   "id": "8ab87f63",
   "metadata": {},
   "outputs": [],
   "source": [
    "n = 1000\n",
    "vidx = np.random.choice(gn.shape[0], n, replace=False)\n",
    "vidx.sort()\n",
    "gnr = gn.take(vidx, axis=0)"
   ]
  },
  {
   "cell_type": "code",
   "execution_count": null,
   "id": "1e7a52d2",
   "metadata": {},
   "outputs": [],
   "source": [
    "coords1, model1 = allel.pca(gnr, n_components=10, scaler=\"patterson\")"
   ]
  },
  {
   "cell_type": "code",
   "execution_count": null,
   "id": "fdfec8d1",
   "metadata": {},
   "outputs": [],
   "source": [
    "df_cont = pd.read_csv(\"igsr_populations.tsv\", delimiter=\"\\t\")\n",
    "df_samples_1000g = pd.read_csv(\n",
    "    \"integrated_call_samples_v3.20200731.ALL.ped\",\n",
    "    delimiter=\"\\t\",\n",
    "    index_col=\"Individual ID\",\n",
    ")\n",
    "df_samples = pd.merge(\n",
    "    df_samples_1000g, df_cont[[\"Population\", \"Superpopulation name\"]], on=\"Population\"\n",
    ")\n",
    "df_samples = df_samples.rename(columns={\"Superpopulation name\": \"Continental\"})"
   ]
  },
  {
   "cell_type": "code",
   "execution_count": null,
   "id": "5ba652b2",
   "metadata": {},
   "outputs": [],
   "source": [
    "df_gnu = pd.DataFrame(data=coords1, index=callset[\"samples\"])\n",
    "df_samples = df_samples.set_index(\"Family ID\")\n",
    "df_samples.index.name = None\n",
    "pca_samples = df_gnu.join(df_samples)\n",
    "populations = pca_samples.Population.unique()\n",
    "continents = pca_samples.Continental.unique()\n",
    "cont_colours = plt.cm.rainbow(np.linspace(0, 1, len(continents)))\n",
    "pop_colours = plt.cm.rainbow(np.linspace(0, 1, len(populations)))"
   ]
  },
  {
   "cell_type": "markdown",
   "id": "e2d9b47a",
   "metadata": {},
   "source": [
    "## Removing correlated features (LD pruning)\n",
    "PCA works best when the features you provide as input are independent from each other. Here each SNP is a feature, however, because DNA is transmitted from one generation to the next with some recombination between parents, genotypes at nearby SNPs tend to be correlated, with the correlation (linkage disequlibrium) decaying as you increase the separation between SNPs. For NGS data, a larger window size or multiple rounds of pruning may be required to deal with regions of long-range LD. LD pruning may also impact different populations in different ways, if populations have different levels of LD."
   ]
  },
  {
   "cell_type": "code",
   "execution_count": null,
   "id": "86c406e0",
   "metadata": {
    "scrolled": true
   },
   "outputs": [],
   "source": [
    "def plot_ld(gn, title):\n",
    "\n",
    "    m = allel.rogers_huff_r(gn) ** 2\n",
    "    fig = plt.figure(figsize=(8, 8))\n",
    "    ax = fig.add_subplot(1, 1, 1)\n",
    "    allel.plot_pairwise_ld(m, ax=ax)\n",
    "    ax.set_title(title)\n",
    "\n",
    "\n",
    "plot_ld(gn[:500], \"Pairwise linkage disequilibrium (LD)\")"
   ]
  },
  {
   "cell_type": "markdown",
   "id": "6ea841cb",
   "metadata": {},
   "source": [
    "We can get a sense of that correlation structure by visualising pairwise linkage disequilibrium in the first 500 SNPs. The darker regions in the plot above indicate pairs of SNPs where genotypes are correlated.\n",
    "\n",
    "By randomly downsampling SNPs, this should have dealt with much of the correlation between nearby features. Let’s take a look at the first 500 SNPs."
   ]
  },
  {
   "cell_type": "code",
   "execution_count": null,
   "id": "5e2e562c",
   "metadata": {},
   "outputs": [],
   "source": [
    "plot_ld(gnr[:500], \"Pairwise linkage disequilibrium (LD) after random downsampling\")"
   ]
  },
  {
   "cell_type": "markdown",
   "id": "58dc4ad7",
   "metadata": {},
   "source": [
    "You can see that some of the correlations are not there anymore. However, you may be able to see some speckling, indicating that there are still some correlated SNPs in the dataset.\n",
    "\n",
    "To remove this remaining correlation, I’m going to explicitly locate SNPs that are not correlated with each other, using the locate_unlinked function from scikit-allel. This is known as LD pruning, and works by sliding a window along the data, computing pairwise LD between all SNPs within each window, then removing one SNP from each correlated pair."
   ]
  },
  {
   "cell_type": "code",
   "execution_count": null,
   "id": "4c7a2a2f",
   "metadata": {},
   "outputs": [],
   "source": [
    "def ld_prune(gn, size, step, threshold=0.1, n_iter=1):\n",
    "    for i in range(n_iter):\n",
    "        loc_unlinked = allel.locate_unlinked(\n",
    "            gn, size=size, step=step, threshold=threshold\n",
    "        )\n",
    "        n = np.count_nonzero(loc_unlinked)\n",
    "        n_remove = gn.shape[0] - n\n",
    "        print(\"iteration\", i + 1, \"retaining\", n, \"removing\", n_remove, \"variants\")\n",
    "        gn = gn.compress(loc_unlinked, axis=0)\n",
    "    return gn\n",
    "\n",
    "\n",
    "gnu_prune = ld_prune(gnr, size=500, step=200, threshold=0.1, n_iter=5)"
   ]
  },
  {
   "cell_type": "code",
   "execution_count": null,
   "id": "fd42f258",
   "metadata": {
    "scrolled": true
   },
   "outputs": [],
   "source": [
    "plot_ld(gnu_prune[:500], \"Pairwise linkage disequilibrium (LD) after LD pruning\")"
   ]
  },
  {
   "cell_type": "markdown",
   "id": "6837e832",
   "metadata": {},
   "source": [
    "The data are relatively small now after downsampling and LD-pruning, so we can bring the data out of chunked storage and into memory uncompressed, which is necessary for PCA."
   ]
  },
  {
   "cell_type": "markdown",
   "id": "976a62c5",
   "metadata": {},
   "source": [
    "### Continental PCA"
   ]
  },
  {
   "cell_type": "code",
   "execution_count": null,
   "id": "44d65f5a",
   "metadata": {},
   "outputs": [],
   "source": [
    "def plot_pca_coords(coords, model, pc1, pc2, ax, sample_population, pops, pop_colors):\n",
    "    sns.despine(ax=ax, offset=5)\n",
    "    x = coords[:, pc1]\n",
    "    y = coords[:, pc2]\n",
    "    for pop, color in zip(pops, pop_colors):\n",
    "        flt = sample_population == pop\n",
    "        ax.plot(\n",
    "            x[flt],\n",
    "            y[flt],\n",
    "            marker=\"o\",\n",
    "            linestyle=\" \",\n",
    "            color=color,\n",
    "            label=pop,\n",
    "            markersize=6,\n",
    "            mec=\"k\",\n",
    "            mew=0.5,\n",
    "        )\n",
    "    ax.set_xlabel(\n",
    "        \"PC%s (%.1f%%)\" % (pc1 + 1, model.explained_variance_ratio_[pc1] * 100)\n",
    "    )\n",
    "    ax.set_ylabel(\n",
    "        \"PC%s (%.1f%%)\" % (pc2 + 1, model.explained_variance_ratio_[pc2] * 100)\n",
    "    )"
   ]
  },
  {
   "cell_type": "code",
   "execution_count": null,
   "id": "8819d18d",
   "metadata": {},
   "outputs": [],
   "source": [
    "def fig_pca_cont(axl, ax2, coords, model, title, sample_population=None):\n",
    "    if sample_population is None:\n",
    "        sample_population = pca_samples.Continental.values\n",
    "    plot_pca_coords(\n",
    "        coords, model, 0, 1, axl, sample_population, continents, cont_colours\n",
    "    )\n",
    "    plot_pca_coords(\n",
    "        coords, model, 2, 3, ax2, sample_population, continents, cont_colours\n",
    "    )\n",
    "    ax2.legend(loc=\"best\", fontsize=9)\n",
    "    fig.suptitle(title, y=1.02)\n",
    "    fig.tight_layout()\n",
    "\n",
    "\n",
    "fig = plt.figure(figsize=(10, 5))\n",
    "axl = fig.add_subplot(1, 2, 1)\n",
    "ax2 = fig.add_subplot(1, 2, 2)\n",
    "\n",
    "fig_pca_cont(axl, ax2, coords1, model1, \"Continental PCA\")"
   ]
  },
  {
   "cell_type": "markdown",
   "id": "d0bd1019",
   "metadata": {},
   "source": [
    "### Effect of variance scaling"
   ]
  },
  {
   "cell_type": "code",
   "execution_count": null,
   "id": "963ab2c4",
   "metadata": {
    "scrolled": true
   },
   "outputs": [],
   "source": [
    "coords3, model3 = allel.pca(gnr, n_components=10, scaler=None)\n",
    "\n",
    "\n",
    "def fig_pca_cont_pruned(axl, ax2, coords, model, title, sample_population=None):\n",
    "    if sample_population is None:\n",
    "        sample_population = pca_samples.Continental.values\n",
    "    plot_pca_coords(\n",
    "        coords, model, 0, 1, axl, sample_population, continents, cont_colours\n",
    "    )\n",
    "    plot_pca_coords(\n",
    "        coords, model, 2, 3, ax2, sample_population, continents, cont_colours\n",
    "    )\n",
    "    ax2.legend(loc=\"best\", fontsize=9)\n",
    "    fig.suptitle(title, y=1.02)\n",
    "    fig.tight_layout()\n",
    "\n",
    "\n",
    "fig = plt.figure(figsize=(10, 5))\n",
    "axl = fig.add_subplot(1, 2, 1)\n",
    "ax2 = fig.add_subplot(1, 2, 2)\n",
    "\n",
    "fig_pca_cont_pruned(\n",
    "    axl, ax2, coords3, model3, \"Conventional PCA without variance scaling\"\n",
    ")"
   ]
  },
  {
   "cell_type": "markdown",
   "id": "825e68f5",
   "metadata": {},
   "source": [
    "### Effect of LD pruning"
   ]
  },
  {
   "cell_type": "code",
   "execution_count": null,
   "id": "e61dd3a9",
   "metadata": {},
   "outputs": [],
   "source": [
    "gnu_prune = gnu_prune[:]\n",
    "coords2, model2 = allel.pca(gnu_prune, n_components=10, scaler=\"patterson\")\n",
    "\n",
    "\n",
    "def fig_pca_cont_pruned(axl, ax2, coords, model, title, sample_population=None):\n",
    "    if sample_population is None:\n",
    "        sample_population = pca_samples.Continental.values\n",
    "    plot_pca_coords(\n",
    "        coords, model, 0, 1, axl, sample_population, continents, cont_colours\n",
    "    )\n",
    "    plot_pca_coords(\n",
    "        coords, model, 2, 3, ax2, sample_population, continents, cont_colours\n",
    "    )\n",
    "    ax2.legend(loc=\"best\", fontsize=9)\n",
    "    fig.suptitle(title, y=1.02)\n",
    "    fig.tight_layout()\n",
    "\n",
    "\n",
    "fig = plt.figure(figsize=(10, 5))\n",
    "axl = fig.add_subplot(1, 2, 1)\n",
    "ax2 = fig.add_subplot(1, 2, 2)\n",
    "\n",
    "\n",
    "fig_pca_cont_pruned(axl, ax2, coords2, model2, \"Pruned Continental PCA\")"
   ]
  },
  {
   "cell_type": "markdown",
   "id": "0628ca53",
   "metadata": {},
   "source": [
    "Looking at the left-hand plot of PC1 versus PC2, there is a clear separation of individuals into four different clusters. This indicates there are at least four genetically distinct populations."
   ]
  },
  {
   "cell_type": "code",
   "execution_count": null,
   "id": "7f9be879",
   "metadata": {},
   "outputs": [],
   "source": [
    "gnu_prune = gnu_prune[:]\n",
    "coords4, model4 = allel.pca(gnu_prune, n_components=10, scaler=None)\n",
    "\n",
    "\n",
    "def fig_pca_cont_pruned(axl, ax2, coords, model, title, sample_population=None):\n",
    "    if sample_population is None:\n",
    "        sample_population = pca_samples.Continental.values\n",
    "    plot_pca_coords(\n",
    "        coords, model, 0, 1, axl, sample_population, continents, cont_colours\n",
    "    )\n",
    "    plot_pca_coords(\n",
    "        coords, model, 2, 3, ax2, sample_population, continents, cont_colours\n",
    "    )\n",
    "    ax2.legend(loc=\"best\", fontsize=9)\n",
    "    fig.suptitle(title, y=1.02)\n",
    "    fig.tight_layout()\n",
    "\n",
    "\n",
    "fig = plt.figure(figsize=(10, 5))\n",
    "axl = fig.add_subplot(1, 2, 1)\n",
    "ax2 = fig.add_subplot(1, 2, 2)\n",
    "\n",
    "\n",
    "fig_pca_cont_pruned(\n",
    "    axl, ax2, coords4, model4, \"Pruned Continental PCA without variance scaling\"\n",
    ")"
   ]
  },
  {
   "cell_type": "markdown",
   "id": "a7d6e3d1",
   "metadata": {},
   "source": [
    "Here again the same clusters are visible but are resolved in a different way. Also, note more of the total variance is explained by the first four components than when using the Patterson scaler. "
   ]
  }
 ],
 "metadata": {
  "finalized": {
   "timestamp": 1653842793702,
   "trusted": true
  },
  "kernelspec": {
   "display_name": "Python 3 (ipykernel)",
   "language": "python",
   "name": "python3"
  },
  "language_info": {
   "codemirror_mode": {
    "name": "ipython",
    "version": 3
   },
   "file_extension": ".py",
   "mimetype": "text/x-python",
   "name": "python",
   "nbconvert_exporter": "python",
   "pygments_lexer": "ipython3",
   "version": "3.9.6"
  }
 },
 "nbformat": 4,
 "nbformat_minor": 5
}
