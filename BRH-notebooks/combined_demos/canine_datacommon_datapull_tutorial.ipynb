{
 "cells": [
  {
   "cell_type": "markdown",
   "id": "f64e81cf",
   "metadata": {},
   "source": [
    "## Installing Gen3 SDK client and import modules"
   ]
  },
  {
   "cell_type": "code",
   "execution_count": null,
   "id": "55b9b944",
   "metadata": {
    "scrolled": false
   },
   "outputs": [],
   "source": [
    "!pip install gen3"
   ]
  },
  {
   "cell_type": "code",
   "execution_count": 129,
   "id": "bebc7d18",
   "metadata": {
    "scrolled": true
   },
   "outputs": [],
   "source": [
    "from gen3.file import Gen3File\n",
    "from gen3.query import Gen3Query\n",
    "from gen3.auth import Gen3Auth\n",
    "from gen3.submission import Gen3Submission\n",
    "from gen3.index import Gen3Index"
   ]
  },
  {
   "cell_type": "markdown",
   "id": "a1e47f24",
   "metadata": {},
   "source": [
    "## Setting up data common access"
   ]
  },
  {
   "cell_type": "code",
   "execution_count": 130,
   "id": "36d031ee",
   "metadata": {
    "scrolled": true
   },
   "outputs": [],
   "source": [
    "endpoint = \"https://caninedc.org/\"\n",
    "auth = Gen3Auth(endpoint, refresh_file = \"./credentials.json\")\n",
    "sub = Gen3Submission(endpoint, auth)\n",
    "file = Gen3File(endpoint, auth)"
   ]
  },
  {
   "cell_type": "markdown",
   "id": "4951756f",
   "metadata": {},
   "source": [
    "## Sample code to pull programs and projects"
   ]
  },
  {
   "cell_type": "code",
   "execution_count": 131,
   "id": "7526bf93",
   "metadata": {
    "scrolled": true
   },
   "outputs": [
    {
     "data": {
      "text/plain": [
       "{'links': ['/v0/submission/Canine']}"
      ]
     },
     "execution_count": 131,
     "metadata": {},
     "output_type": "execute_result"
    }
   ],
   "source": [
    "sub.get_programs()"
   ]
  },
  {
   "cell_type": "code",
   "execution_count": 132,
   "id": "727e5feb",
   "metadata": {
    "scrolled": true
   },
   "outputs": [
    {
     "data": {
      "text/plain": [
       "{'links': ['/v0/submission/Canine/Korean_DongGyeongi',\n",
       "  '/v0/submission/Canine/Osteosarcoma',\n",
       "  '/v0/submission/Canine/Cornell_GWAS',\n",
       "  '/v0/submission/Canine/Mizzou_Comparative_Resequencing',\n",
       "  '/v0/submission/Canine/Glioma',\n",
       "  '/v0/submission/Canine/Bladder_cancer',\n",
       "  '/v0/submission/Canine/melanoma',\n",
       "  '/v0/submission/Canine/B_cell_lymphoma',\n",
       "  '/v0/submission/Canine/Non-Hodgkin_lymphoma',\n",
       "  '/v0/submission/Canine/NHGRI',\n",
       "  '/v0/submission/Canine/PMed_trial']}"
      ]
     },
     "execution_count": 132,
     "metadata": {},
     "output_type": "execute_result"
    }
   ],
   "source": [
    "sub.get_projects(\"Canine\")"
   ]
  },
  {
   "cell_type": "markdown",
   "id": "8b1d9584",
   "metadata": {},
   "source": [
    "## Use export_node() to export relevant metadata"
   ]
  },
  {
   "cell_type": "code",
   "execution_count": 133,
   "id": "23271b0a",
   "metadata": {
    "scrolled": true
   },
   "outputs": [
    {
     "name": "stdout",
     "output_type": "stream",
     "text": [
      "\n",
      "Output written to file: CaninePMed_trialstudy.json\n",
      "\n",
      "Output written to file: CaninePMed_trialsubject.json\n",
      "\n",
      "Output written to file: CaninePMed_trialproject.json\n",
      "\n",
      "Output written to file: CaninePMed_trialcore_metadata_collection.json\n"
     ]
    }
   ],
   "source": [
    "program = 'Canine'\n",
    "project = 'PMed_trial'\n",
    "\n",
    "node_types = [\"study\", \"subject\", \"project\", \"core_metadata_collection\"] \n",
    "\n",
    "for n in node_types:\n",
    "    name = program + project + n + \".json\" \n",
    "    sub.export_node(program, project, n, \"json\", filename=name)"
   ]
  },
  {
   "cell_type": "code",
   "execution_count": 134,
   "id": "935d1c02",
   "metadata": {
    "scrolled": true
   },
   "outputs": [],
   "source": [
    "import json\n",
    "file = open('./file-manifest.json')\n",
    "data = json.load(file)\n",
    "object_ids = [i.get('object_id') for i in data]"
   ]
  },
  {
   "cell_type": "markdown",
   "id": "2a6d83d6",
   "metadata": {},
   "source": [
    "## Use gen3-client to download the Affymetix CEL files included the manifest file"
   ]
  },
  {
   "cell_type": "code",
   "execution_count": 135,
   "id": "6ab00d02",
   "metadata": {
    "scrolled": true
   },
   "outputs": [
    {
     "name": "stdout",
     "output_type": "stream",
     "text": [
      "2022/04/05 14:00:39 Profile 'demo' has been configured successfully.\r\n"
     ]
    }
   ],
   "source": [
    "!gen3-client configure --profile=demo --cred=\"./credentials.json\" --apiendpoint=\"https://caninedc.org/\""
   ]
  },
  {
   "cell_type": "code",
   "execution_count": null,
   "id": "14f8e224",
   "metadata": {
    "scrolled": true
   },
   "outputs": [],
   "source": [
    "!gen3-client download-multiple --profile=demo --manifest=file-manifest.json --download-path=\"./\""
   ]
  },
  {
   "cell_type": "code",
   "execution_count": null,
   "id": "c73a1366",
   "metadata": {
    "scrolled": true
   },
   "outputs": [],
   "source": [
    "!gunzio *.gz\n",
    "!ls | grep '.CEL'"
   ]
  },
  {
   "cell_type": "code",
   "execution_count": null,
   "id": "00a28230",
   "metadata": {
    "scrolled": true
   },
   "outputs": [],
   "source": [
    "!pip install biopython"
   ]
  },
  {
   "cell_type": "code",
   "execution_count": 136,
   "id": "a0a6fea3",
   "metadata": {
    "scrolled": true
   },
   "outputs": [],
   "source": [
    "from Bio.Affy import CelFile"
   ]
  },
  {
   "cell_type": "code",
   "execution_count": null,
   "id": "d99e90ac",
   "metadata": {
    "scrolled": true
   },
   "outputs": [],
   "source": [
    "selected_file = \"GSM1239318_1303_Canine_2_.CEL\"\n",
    "with open(selected_file, 'r', encoding = 'unicode_escape') as f: \n",
    "    c = CelFile.read(f)\n",
    "    print (c)\n",
    "    print(c.ncols, c.nrows)\n",
    "    print(c.intensities)"
   ]
  },
  {
   "cell_type": "markdown",
   "id": "b0e56d6c",
   "metadata": {},
   "source": [
    "Above is an example analysis of extracting the intensity data from the Affymetix CEL files, the specific verison of the CEL file in this study (version 4) is currently not supported by biopython's Bio.Affy.CelFile module."
   ]
  }
 ],
 "metadata": {
  "kernelspec": {
   "display_name": "Python 3 (ipykernel)",
   "language": "python",
   "name": "python3"
  },
  "language_info": {
   "codemirror_mode": {
    "name": "ipython",
    "version": 3
   },
   "file_extension": ".py",
   "mimetype": "text/x-python",
   "name": "python",
   "nbconvert_exporter": "python",
   "pygments_lexer": "ipython3",
   "version": "3.8.12"
  }
 },
 "nbformat": 4,
 "nbformat_minor": 5
}
