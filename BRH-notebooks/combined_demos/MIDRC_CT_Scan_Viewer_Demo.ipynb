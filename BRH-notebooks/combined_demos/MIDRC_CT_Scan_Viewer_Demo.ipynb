{
 "cells": [
  {
   "cell_type": "markdown",
   "id": "188e41c5-acfc-455a-8495-61b0685684ea",
   "metadata": {},
   "source": [
    "# Demo - Viewing CT Scan Images"
   ]
  },
  {
   "cell_type": "markdown",
   "id": "c4821a3a-0be2-47dd-80c0-9d387549528e",
   "metadata": {},
   "source": [
    "In this demo we will review how to import MIDRC imaging data, how to convert CT scan images from dcm to png and jpeg formats, and how to view these CT scan images."
   ]
  },
  {
   "cell_type": "markdown",
   "id": "1df9c244-247a-4476-b0dd-bf672acc6d4c",
   "metadata": {},
   "source": [
    "### Import Data And Packages\n",
    "Import the packages pydicom, pillow and numpy. If any of these packages are not already installed to your workspace you can run one of the follwoing:\n",
    "- 'pip install < package >' in the workspace terminal\n",
    "- '!pip install < package >' in a notebook cell"
   ]
  },
  {
   "cell_type": "code",
   "execution_count": null,
   "id": "42ef4275-793c-48d3-8ab0-417ff5c232e4",
   "metadata": {},
   "outputs": [],
   "source": [
    "!pip install Image"
   ]
  },
  {
   "cell_type": "code",
   "execution_count": 17,
   "id": "be7d4148-b13d-41a0-b972-9491880f43af",
   "metadata": {},
   "outputs": [],
   "source": [
    "import pydicom\n",
    "import numpy as np\n",
    "from PIL import Image"
   ]
  },
  {
   "cell_type": "markdown",
   "id": "767559ac-5e0d-4c21-b592-88ccc9aa2f69",
   "metadata": {},
   "source": [
    "Import 5 CT scan images using the gen3 SDK"
   ]
  },
  {
   "cell_type": "code",
   "execution_count": 1,
   "id": "70569c88-ffb4-4cfa-9f57-a518f78a4373",
   "metadata": {},
   "outputs": [],
   "source": [
    "!gen3 drs-pull object dg.MD1R/ea669b5e-ae51-40ba-b375-ed23a9cd1855\n",
    "!gen3 drs-pull object dg.MD1R/a745ed98-0cb9-4537-826b-13b2e354e8bb\n",
    "!gen3 drs-pull object dg.MD1R/e604979a-c71b-4ec6-b8a0-959837b86384\n",
    "!gen3 drs-pull object dg.MD1R/b5cee98d-46ff-4438-aa00-90727a383340\n",
    "!gen3 drs-pull object dg.MD1R/8a5a5579-7925-432d-a614-3ed208f1c182"
   ]
  },
  {
   "cell_type": "markdown",
   "id": "5dc3a710-c717-4119-a658-1d07adb50f05",
   "metadata": {},
   "source": [
    "All 5 CT scan images are now stored under the folder 'COVID-19-NY-SBU'"
   ]
  },
  {
   "cell_type": "markdown",
   "id": "3a99afeb-2651-4a35-b71c-8a44ce0ef103",
   "metadata": {},
   "source": [
    "#### View Image"
   ]
  },
  {
   "cell_type": "code",
   "execution_count": 6,
   "id": "3a67450d-1394-4c1d-af1b-c56b82d0092a",
   "metadata": {},
   "outputs": [
    {
     "data": {
      "text/plain": [
       "'COVID-19-NY-SBU/A034518/12-31-1900-CT ABD PELVIS(WITH CHEST IMAGES) W IV CON-21869/4.000000-Lung 1.0 CE-04129/1-273.dcm'"
      ]
     },
     "execution_count": 6,
     "metadata": {},
     "output_type": "execute_result"
    }
   ],
   "source": [
    "image_path = 'COVID-19-NY-SBU/A034518/12-31-1900-CT ABD PELVIS(WITH CHEST IMAGES) W IV CON-21869/4.000000-Lung 1.0 CE-04129/1-273.dcm'\n",
    "image_path"
   ]
  },
  {
   "cell_type": "markdown",
   "id": "5e87d23c-9eba-4c72-83dc-d55d8b994b01",
   "metadata": {},
   "source": [
    "Read the dcm image using the relative file path."
   ]
  },
  {
   "cell_type": "code",
   "execution_count": 8,
   "id": "80f91180-6084-42cc-97f5-5520b4676ffe",
   "metadata": {},
   "outputs": [],
   "source": [
    "ds = pydicom.dcmread(image_path)"
   ]
  },
  {
   "cell_type": "markdown",
   "id": "07be2401-747b-496a-bc90-3489e04ddcba",
   "metadata": {},
   "source": [
    "Get the pixel arrays for the image."
   ]
  },
  {
   "cell_type": "code",
   "execution_count": 10,
   "id": "eb2a2b59-d26b-496e-986b-abd20c97ace1",
   "metadata": {},
   "outputs": [
    {
     "data": {
      "text/plain": [
       "array([[-2048., -2048., -2048., ..., -2048., -2048., -2048.],\n",
       "       [-2048., -2048., -2048., ..., -2048., -2048., -2048.],\n",
       "       [-2048., -2048., -2048., ..., -2048., -2048., -2048.],\n",
       "       ...,\n",
       "       [-2048., -2048., -2048., ..., -2048., -2048., -2048.],\n",
       "       [-2048., -2048., -2048., ..., -2048., -2048., -2048.],\n",
       "       [-2048., -2048., -2048., ..., -2048., -2048., -2048.]])"
      ]
     },
     "execution_count": 10,
     "metadata": {},
     "output_type": "execute_result"
    }
   ],
   "source": [
    "new_image = ds.pixel_array.astype(float)\n",
    "new_image"
   ]
  },
  {
   "cell_type": "markdown",
   "id": "6fbc9cca-a6de-4859-acdc-71e61f09c821",
   "metadata": {},
   "source": [
    "Scale the image's pixel array and convert to a uint8 integer."
   ]
  },
  {
   "cell_type": "code",
   "execution_count": 11,
   "id": "65180d29-4c48-4e74-abe3-3a966106486d",
   "metadata": {},
   "outputs": [
    {
     "data": {
      "text/plain": [
       "array([[0., 0., 0., ..., 0., 0., 0.],\n",
       "       [0., 0., 0., ..., 0., 0., 0.],\n",
       "       [0., 0., 0., ..., 0., 0., 0.],\n",
       "       ...,\n",
       "       [0., 0., 0., ..., 0., 0., 0.],\n",
       "       [0., 0., 0., ..., 0., 0., 0.],\n",
       "       [0., 0., 0., ..., 0., 0., 0.]])"
      ]
     },
     "execution_count": 11,
     "metadata": {},
     "output_type": "execute_result"
    }
   ],
   "source": [
    "scaled_image = (np.maximum(new_image, 0) / new_image.max()) * 255.0\n",
    "scaled_image = np.uint8(scaled_image)\n",
    "scaled_image"
   ]
  },
  {
   "cell_type": "markdown",
   "id": "5178dd7b-6b37-4e52-89e2-376817b1a040",
   "metadata": {},
   "source": [
    "Use the Image package to convert the image array and show the image."
   ]
  },
  {
   "cell_type": "code",
   "execution_count": 18,
   "id": "7d98025e-f429-4106-86a5-9639d9d082a5",
   "metadata": {},
   "outputs": [],
   "source": [
    "final_image = Image.fromarray(scaled_image)\n",
    "final_image.show()"
   ]
  },
  {
   "cell_type": "markdown",
   "id": "471d7259-a73a-471f-aa94-cc6ea2985713",
   "metadata": {},
   "source": [
    "#### Convert Images\n",
    "Convert images form dcm format to jpeg and png formats and place converted image format to the original image folder."
   ]
  },
  {
   "cell_type": "code",
   "execution_count": 32,
   "id": "302f875e-0e95-4fae-83ea-4a729e3829ec",
   "metadata": {},
   "outputs": [],
   "source": [
    "def dcm_to_png(image_path):\n",
    "    \n",
    "    ds = pydicom.dcmread(image_path)\n",
    "    \n",
    "    new_image = ds.pixel_array.astype(float)\n",
    "    \n",
    "    scaled_image = np.uint8((np.maximum(new_image, 0) / new_image.max()) * 255.0)\n",
    "    \n",
    "    final_image = Image.fromarray(scaled_image)\n",
    "\n",
    "    final_image.save(image_path[:-3] + 'png')\n",
    "    \n",
    "\n",
    "def dcm_to_jpeg(image_path):\n",
    "    \n",
    "    ds = pydicom.dcmread(image_path)\n",
    "    \n",
    "    new_image = ds.pixel_array.astype(float)\n",
    "    \n",
    "    scaled_image = np.uint8((np.maximum(new_image, 0) / new_image.max()) * 255.0)\n",
    "    \n",
    "    final_image = Image.fromarray(scaled_image)\n",
    "\n",
    "    final_image.save(image_path[:-3] + 'jpg')    \n"
   ]
  },
  {
   "cell_type": "code",
   "execution_count": 30,
   "id": "70facdf4-428a-42d2-8dfb-768c1a06ebbe",
   "metadata": {},
   "outputs": [],
   "source": [
    "dcm_to_png(image_path)"
   ]
  },
  {
   "cell_type": "code",
   "execution_count": 33,
   "id": "9b50b421-bea9-49e2-919d-aaf68ac89e20",
   "metadata": {},
   "outputs": [],
   "source": [
    "dcm_to_jpeg(image_path)"
   ]
  },
  {
   "cell_type": "code",
   "execution_count": null,
   "id": "118a84b7-d021-4b78-b07b-91717ab9d318",
   "metadata": {},
   "outputs": [],
   "source": []
  }
 ],
 "metadata": {
  "kernelspec": {
   "display_name": "Python 3",
   "language": "python",
   "name": "python3"
  },
  "language_info": {
   "codemirror_mode": {
    "name": "ipython",
    "version": 3
   },
   "file_extension": ".py",
   "mimetype": "text/x-python",
   "name": "python",
   "nbconvert_exporter": "python",
   "pygments_lexer": "ipython3",
   "version": "3.9.4"
  }
 },
 "nbformat": 4,
 "nbformat_minor": 5
}
