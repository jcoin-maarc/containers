{
 "cells": [
  {
   "cell_type": "markdown",
   "id": "a1c74182",
   "metadata": {},
   "source": [
    "# Exploring Opioid Overdose Death Rate Trajectories in the United States\n",
    "\n",
    "Previous CDC analyses show factors contributing to increased opioid overdose deaths (ie death rate trajectories across years; see first section of this notebook). However, exploring the underlying variance of these trajectories, such as within different locations, may lead to more precise targeting of interventions, public health marketing, policy recommendations, and resource allocation.\n",
    "\n",
    "This notebook shows the power of the HEAL platform to accomplish taking a deep dive into this underlying variance. Specifically, the HEAL platform provides a workspace for easy accessibility  to (1) publication data for reproducibility and (2) more fine-grained and/or raw data to explore the underlying variance of published data and findings. "
   ]
  },
  {
   "cell_type": "markdown",
   "id": "b3dd1fe2",
   "metadata": {},
   "source": [
    "## Summary of findings\n",
    "\n",
    "\n",
    "1. Prior widely circulated CDC analyses show synthetic opioids drive much of the increase in opioid overdose death rates in recent years (see [Hedegaard et al 2020](https://www.cdc.gov/nchs/products/databriefs/db394.htm) and [CDC presentations](https://www.cdc.gov/opioids/data/analysis-resources.html)) using the CDC Wonder database\n",
    "\n",
    "2. However, synthetic opioids have considerable variance when looking at the state level of death rates. That is, distinct groups/clusters of states have high 2019 opioid overdose death rate while others have considerably lower increases in death rates.\n",
    "3. Mapping 2019 death rates show the high increasing group of states is quite restricted to the Northeast region of the US.\n",
    "4. Future studies may want to hone in on the Northeast to understand social determinants and other factors (ie clinics) of high synthetic opioid death rates at a finer grained level such as the county level. The HEAL platform makes such data, for example clinic locations in the Opioid Environmental Policy Scan repository, to do these analyses easier."
   ]
  },
  {
   "cell_type": "markdown",
   "id": "18371b1d",
   "metadata": {},
   "source": [
    "### Load in necessary packages and define functions"
   ]
  },
  {
   "cell_type": "code",
   "execution_count": null,
   "id": "c3ff1451",
   "metadata": {},
   "outputs": [],
   "source": [
    "import os\n",
    "from glob import glob\n",
    "import re\n",
    "import pandas as pd\n",
    "import numpy as np\n",
    "import matplotlib.pyplot as plt\n",
    "import seaborn as sns\n",
    "\n",
    "from IPython.display import Markdown\n",
    "import plotly.express as px"
   ]
  },
  {
   "cell_type": "code",
   "execution_count": null,
   "id": "fd8c296c",
   "metadata": {},
   "outputs": [],
   "source": [
    "# def _extract_year_from_dir(path):\n",
    "#     '''\n",
    "#     path: path to query extract with year in name\n",
    "    \n",
    "#     had to query CDC wonder GUI individually by year\n",
    "#     due to time outs so need to add year variable\n",
    "#     '''\n",
    "#     return re.search('\\d+',path).group()\n",
    "\n",
    "def read_cdc_wonder_query(path):\n",
    "    '''\n",
    "    path: path to query extract with query info and footnotes\n",
    "    \n",
    "    reads text file and skips the last 83 lines which \n",
    "    is used for footnotes in CDC wonder extracts\n",
    "    '''\n",
    "    df = pd.read_table(path)\n",
    "    #df['year'] = _extract_year_from_dir(path) #used in previous version\n",
    "    \n",
    "    #get rid of query details at end of text file\n",
    "    no_notes = df.Notes.isna()\n",
    "    is_total = df.Notes=='Total'\n",
    "    #print(is_total.sum())\n",
    "    return df.loc[(no_notes | is_total)]\n",
    "\n",
    "\n",
    "def convert_float_to_str(series,fill_missing_to=0):\n",
    "    '''\n",
    "    for grouping/coding variables, want to be able to see unique \n",
    "    values for pandas fxns such as describe().\n",
    "    \n",
    "    '''\n",
    "    \n",
    "    return series.fillna(fill_missing_to).astype(int).astype(str)\n",
    "\n",
    "\n",
    "def clean_column_names(df,replace_str='_'):\n",
    "    #clean column names\n",
    "    df.columns = [x.lower().replace(' ',replace_str) for x in df.columns]\n",
    "    \n",
    "    \n",
    "def show_every_other_axis_label(fig,axis='x'):\n",
    "    '''\n",
    "    makes a plt figure only show every other label for given axis\n",
    "    '''\n",
    "    if axis=='x':\n",
    "        tick_labels = fig.get_xticklabels()\n",
    "    else:\n",
    "        tick_labels = fig.get_yticklabels()\n",
    "        \n",
    "    for ind, label in enumerate(tick_labels):\n",
    "        if ind % 2 == 0:  # show every odd every odd year\n",
    "            label.set_visible(True)\n",
    "        else:\n",
    "            label.set_visible(False)\n",
    "def format_wide_hedegaard_data_for_plot(df,variable_name_key):\n",
    "    '''\n",
    "    format cleaned data prepared from the CDC Hedegaard data brief\n",
    "    for plotting trajectories based on different dimensions\n",
    "    '''\n",
    "    formatted_data = (\n",
    "        df\n",
    "        .assign(year=lambda x: x.year.astype(int).astype(str)) #make year factor for no decimals\n",
    "        .set_index('year')\n",
    "        [variable_name_key.keys()]\n",
    "        .rename(columns=variable_name_key)\n",
    "    )\n",
    "    return formatted_data\n",
    "\n",
    "def draw_hedegaard_lineplot(df,variable_name_key=None,data_structure='wide',\n",
    "                            yvar=None,groupvar=None,lineplot_args={}):\n",
    "    '''\n",
    "    convert x variable (years) into a factor and format \n",
    "    for seaborn lineplot input using specificied \n",
    "    variables in df as keys and names rendered as values\n",
    "    in the input dict (ie variable name key)\n",
    "    '''\n",
    "    \n",
    "    if data_structure=='wide':\n",
    "        fig = sns.lineplot(\n",
    "           data= format_wide_hedegaard_data_for_plot(df,variable_name_key),\n",
    "            **lineplot_args\n",
    "        )\n",
    "    else:\n",
    "        fig = sns.lineplot(data=df, x=\"year\", y=yvar, hue=groupvar,**lineplot_args)\n",
    "    #customize aesthetics more like paper\n",
    "    ##tick labels every other year\n",
    "    show_every_other_axis_label(fig)\n",
    "    return fig\n",
    "    "
   ]
  },
  {
   "cell_type": "markdown",
   "id": "d4497a09",
   "metadata": {},
   "source": [
    "### Pull file objects using the Gen3 SDK"
   ]
  },
  {
   "cell_type": "code",
   "execution_count": null,
   "id": "cca9ea63",
   "metadata": {},
   "outputs": [],
   "source": [
    "!gen3 pull_object dg.H34L/5f8f3d67-15a5-4eff-834d-61ecea345588\n",
    "!gen3 pull_object dg.H34L/ef07a234-5ab9-474b-8239-712fdf494164\n",
    "!gen3 pull_object dg.H34L/f5cbd03a-217a-4786-80dd-2ca4fe3a6203\n",
    "!gen3 pull_object dg.H34L/7dd7f3da-c905-4388-a051-c4802f7bbd1c\n",
    "!gen3 pull_object dg.H34L/d0759aac-ea06-40ae-b3af-360ffe1823a0"
   ]
  },
  {
   "cell_type": "markdown",
   "id": "f8cf2c7b",
   "metadata": {},
   "source": [
    "## Reproduce visualizations directly from [Hedegaard et al., 2020 data brief](https://www.cdc.gov/nchs/products/databriefs/db394.htm)\n",
    "\n",
    "- These data and visualizations are from a data brief directly used to create [CDC articles](https://www.cdc.gov/opioids/data/analysis-resources.html)\n",
    "\n",
    "- The three visualizations shown here show average death rates for three different dimensions (gender,age,type of opioid) "
   ]
  },
  {
   "cell_type": "code",
   "execution_count": null,
   "id": "9744361e",
   "metadata": {
    "scrolled": true
   },
   "outputs": [],
   "source": [
    "#read in cleaned data from HEAL platform\n",
    "opioid_gender = pd.read_excel(f\"{file_dir}/deaths_gender.xlsx\")\n",
    "opioid_age = pd.read_excel(f\"{file_dir}/deaths_age_cat.xlsx\")\n",
    "opioid_type = pd.read_excel(f\"{file_dir}/deaths_type_opioid.xlsx\")"
   ]
  },
  {
   "cell_type": "markdown",
   "id": "e396f413",
   "metadata": {},
   "source": [
    "### Figure 1 : Gender"
   ]
  },
  {
   "cell_type": "code",
   "execution_count": null,
   "id": "1c848570",
   "metadata": {},
   "outputs": [],
   "source": [
    "#format dataframe for lineplot\n",
    "#get rid of spaces in names\n",
    "clean_column_names(opioid_gender,replace_str='')\n",
    "\n",
    "#select and format categories and names\n",
    "gender_column_labels = {\n",
    "    'deaths_total_per1k':'Total',\n",
    "    'deaths_male_per1k':'Male',\n",
    "    'deaths_female_per1k':'Female'\n",
    "}"
   ]
  },
  {
   "cell_type": "code",
   "execution_count": null,
   "id": "a9536627",
   "metadata": {
    "scrolled": false
   },
   "outputs": [],
   "source": [
    "#draw plot like  in publication\n",
    "fig1_gender = draw_hedegaard_lineplot(opioid_gender,gender_column_labels)\n",
    "##fig/axis titles\n",
    "ytitle = \"Deaths per 100,000 standard population\"\n",
    "xtitle = ''\n",
    "fig1_name = (\"Figure 1. Age-adjusted drug overdose death rates, by sex:\"+\n",
    "             \"\\n\"+\n",
    "             \"United States, 1999–2019\")\n",
    "\n",
    "plt.ylabel(ytitle)\n",
    "plt.xlabel('')\n",
    "plt.title(fig1_name)\n",
    "plt.show()"
   ]
  },
  {
   "cell_type": "markdown",
   "id": "be01cd1e",
   "metadata": {},
   "source": [
    "These data show both (1) the rate of increase (driven by increase in more recent years) and (2) overall baseline deaths are higher for males than females. Note, these are adjusted for age related effects."
   ]
  },
  {
   "cell_type": "markdown",
   "id": "5b654327",
   "metadata": {},
   "source": [
    "### Figure 2: Age categories"
   ]
  },
  {
   "cell_type": "code",
   "execution_count": null,
   "id": "ed312e37",
   "metadata": {},
   "outputs": [],
   "source": [
    "#age mapping\n",
    "age_column_labels = {\n",
    "    'age_15_24_per1k':'15 - 24',\n",
    "    'age_25_34_per1k':'25 - 34',\n",
    "    'age_35_44_per1k':'35 - 44',\n",
    "    'age_45_54_per1k':'45 - 54',\n",
    "    'age_55_64_per1k': '55 - 64',\n",
    "    'age_65_over_per1k':'65 and over'\n",
    "}\n",
    "\n",
    "fig2_age = draw_hedegaard_lineplot(opioid_age,age_column_labels)\n",
    "\n",
    "##fig/axis titles\n",
    "ytitle = \"Deaths per 100,000 standard population\"\n",
    "xtitle = ''\n",
    "fig2_name = (\"Figure 2. Drug overdose death rates among those aged 15 and over,\"+\n",
    "             \"\\n\"+\n",
    "             \"by selected age group: United States, 1999–2019\")\n",
    "\n",
    "plt.ylabel(ytitle)\n",
    "plt.xlabel('')\n",
    "plt.title(fig2_name)"
   ]
  },
  {
   "cell_type": "markdown",
   "id": "5d182844",
   "metadata": {},
   "source": [
    "Clearly, the rate of change in recent years is driven by adults (25-54). Additionally, the young adults (25-34) showed a lower death rate in the early 2000s compared to the other adult groups. However, in more recent years, the 25-34 group has reached the level of middle aged adults. \n",
    "\n",
    "This disturbing trend could be one avenue for exploratory analyses that data from the HEAL platform could address --- by having a richer set of data."
   ]
  },
  {
   "cell_type": "markdown",
   "id": "472f14ce",
   "metadata": {},
   "source": [
    "### Figure 3: Opioid Types"
   ]
  },
  {
   "cell_type": "code",
   "execution_count": null,
   "id": "a4d72068",
   "metadata": {
    "scrolled": true
   },
   "outputs": [],
   "source": [
    "#type\n",
    "type_column_labels = {\n",
    "'any_opioids_per1k':'All opioids',\n",
    " 'heroin_per1k':'Heroin',\n",
    " 'natural_semisynthetic_opioids_per1k':'Natural and semisynthetic opioids',\n",
    " 'methadone_per1k': 'Methadone',\n",
    " 'other_than_methadone_per1k':'Synthetic opioids other than methadone'\n",
    "}\n",
    "\n",
    "fig3_type = draw_hedegaard_lineplot(opioid_type,type_column_labels)\n",
    "\n",
    "##fig/axis titles\n",
    "ytitle = \"Deaths per 100,000 standard population\"\n",
    "xtitle = ''\n",
    "fig3_name = (\"Figure 3. Age-adjusted rates of drug overdose deaths involving opioids,\"+\n",
    "             \"\\n\"+\n",
    "             \"by type of opioid: United States, 1999–2019\")\n",
    "\n",
    "plt.ylabel(ytitle)\n",
    "plt.xlabel('')\n",
    "plt.title(fig3_name)"
   ]
  },
  {
   "cell_type": "markdown",
   "id": "c5dad3e3",
   "metadata": {},
   "source": [
    "- As we've seen in the previous two figures, overall opioid use has seen a dramatic increase in the 2010s. \n",
    "    - While there are many types of opioids, one can clearly see that synthetic opioids other than methadone is driving this increase (drugs such as fentanyl, fentanyl analogs, and tramadol).\n",
    "\n",
    "- As we'll see in the rest of the notebook, there are two open questions:\n",
    "    1. Is there substantial variance in this opioid group's death rate?\n",
    "    2. Are there factors that can explain this variance providing actionable insights?"
   ]
  },
  {
   "cell_type": "markdown",
   "id": "53affc4c",
   "metadata": {},
   "source": [
    "## Deeper dive into the variance associated with opioid overdose increases directly from CDC Wonder data \n",
    "\n",
    "By having more granular data readily available on the HEAL platform, you can explore the variance underlying the \"cleaned up publication data\" (also available on the HEAL platform). "
   ]
  },
  {
   "cell_type": "markdown",
   "id": "197a97a2",
   "metadata": {},
   "source": [
    "#### Reproduce opioid type figure from publication using direct CDC Wonder data"
   ]
  },
  {
   "cell_type": "code",
   "execution_count": null,
   "id": "7bf147d4",
   "metadata": {},
   "outputs": [],
   "source": [
    "total_df = read_cdc_wonder_query(f\"{file_dir}/cdc_wonder_year_cause_hedegaard_et_al_2020.txt\")\n",
    "clean_column_names(total_df)\n",
    "#mapping of ICD Codes to labels used in CDC data brief\n",
    "type_column_labels = {\n",
    " 'T40.1':'Heroin',\n",
    " 'T40.2':'Natural and semisynthetic opioids',\n",
    " 'T40.3': 'Methadone',\n",
    " 'T40.4':'Synthetic opioids other than methadone'\n",
    "}\n",
    "\n",
    "#make a variable with name mapping\n",
    "total_df['type'] = total_df['multiple_cause_of_death_code'].map(type_column_labels)\n",
    "#convert year variable to string object for plotting purposes\n",
    "total_df['year'] = convert_float_to_str(total_df['year'])\n",
    "\n",
    "#create boolean vector for focus of subsequent analyses (for filtering)\n",
    "#ie synthetic opioids\n",
    "is_opioid = total_df['multiple_cause_of_death_code'].isin(type_column_labels.keys())\n",
    "is_synthetic_type = total_df['multiple_cause_of_death_code']=='T40.4'"
   ]
  },
  {
   "cell_type": "code",
   "execution_count": null,
   "id": "cf6e1448",
   "metadata": {
    "scrolled": true
   },
   "outputs": [],
   "source": [
    "#filter only synthetic opioids other than methadone\n",
    "state_df = read_cdc_wonder_query(f\"{file_dir}/cdc_wonder_year_cause_state_hedegaard_et_al_2020.txt\")\n",
    "clean_column_names(state_df)\n",
    "type_column_labels = {\n",
    " 'T40.1':'Heroin',\n",
    " 'T40.2':'Natural and semisynthetic opioids',\n",
    " 'T40.3': 'Methadone',\n",
    " 'T40.4':'Synthetic opioids other than methadone'\n",
    "}\n",
    "\n",
    "state_df['type'] = state_df['multiple_cause_of_death_code'].map(type_column_labels)\n",
    "state_df['year'] = convert_float_to_str(state_df['year'])\n",
    "\n",
    "#create boolean vector for focus of subsequent analyses (for filtering)\n",
    "#ie synthetic opioids\n",
    "is_opioid = state_df['multiple_cause_of_death_code'].isin(type_column_labels.keys())\n",
    "is_synthetic_type = state_df['multiple_cause_of_death_code']=='T40.4'\n",
    "#only want individual states and not totals (CDC queries give both)\n",
    "is_total = np.where(state_df.notes.isna(),False,True) "
   ]
  },
  {
   "cell_type": "code",
   "execution_count": null,
   "id": "576378b8",
   "metadata": {},
   "outputs": [],
   "source": [
    "#make these objects given they are codes\n",
    "state_df['state_code'] = convert_float_to_str(state_df['state_code'])\n",
    "#state_df['county_code'] = convert_float_to_str(state_df['county_code'])"
   ]
  },
  {
   "cell_type": "code",
   "execution_count": null,
   "id": "be3a04fb",
   "metadata": {},
   "outputs": [],
   "source": [
    "#convert metrics to numeric values and make a key for why missing\n",
    "data = state_df\n",
    "for metric_name in ['crude_rate','deaths','population','age_adjusted_rate']:\n",
    "    #get missing val strings\n",
    "    reasons_missing = ['Suppressed','Unreliable','Missing',None]\n",
    "    is_missing = data[metric_name].isin(reasons_missing) \n",
    "\n",
    "    #make a key showing to retain info on why missing\n",
    "    data[metric_name+'_missing_desc'] = data[metric_name]\n",
    "    data.loc[~is_missing,metric_name+'_missing_desc'] = ''\n",
    "\n",
    "    #missing for diff reasons but need to make float var from string -- if missing, make a NaN\n",
    "    data.loc[is_missing,metric_name] = np.nan #change missing val strings to NaNs\n",
    "    data[metric_name] = data[metric_name].astype(float) #change to var to float\n",
    "del data"
   ]
  },
  {
   "cell_type": "code",
   "execution_count": null,
   "id": "daa43c0d",
   "metadata": {
    "scrolled": true
   },
   "outputs": [],
   "source": [
    "#draw the same plot from hedegaard et al data brief but with state level\n",
    "#data directly from CDC Wonder API\n",
    "draw_hedegaard_lineplot(\n",
    "    state_df,\n",
    "    yvar='age_adjusted_rate',\n",
    "    groupvar=\"type\",\n",
    "    data_structure='long',\n",
    "    lineplot_args={'linewidth':5,\n",
    "                   'ci':95,\n",
    "                   'err_style':'band',\n",
    "                   'n_boot':5000}\n",
    ")\n",
    "\n",
    "##fig/axis titles\n",
    "ytitle = \"Deaths per 100,000 standard population\"\n",
    "xtitle = ''\n",
    "fig3_name = (\"Age-adjusted rates of drug overdose deaths involving opioids,\"+\n",
    "             \"\\n\"+\n",
    "             \"by type of opioid: United States, 1999–2019\"+\n",
    "             \"\\n\"+\n",
    "            \"\\nwith 95% confidence intervals\")\n",
    "\n",
    "plt.ylabel(ytitle)\n",
    "plt.xlabel('')\n",
    "plt.title(fig3_name)\n",
    "plt.legend(title=\"Opioid Type\")\n",
    "#plt.savefig('death_rate_by_opioid_type_cdc_wonder.png')\n",
    "plt.show()"
   ]
  },
  {
   "cell_type": "markdown",
   "id": "3fc874d1",
   "metadata": {},
   "source": [
    "**Conclusions from adding information about variance (ie 95% confidence intervals) to the opioid type plot:**\n",
    "\n",
    "While there is a large increase in synthetic opioid (in red) use in recent years, there is also differences among individual states. \n",
    "\n",
    "So, the question is: what are the individual death rate trajectories for individual states? Are there patterns/clusters amongst states that can inform how to target public policy/health interventions?"
   ]
  },
  {
   "cell_type": "code",
   "execution_count": null,
   "id": "0d508de6",
   "metadata": {},
   "outputs": [],
   "source": [
    "g_individual = draw_hedegaard_lineplot(\n",
    "    state_df.loc[is_synthetic_type & ~is_total],\n",
    "    yvar='age_adjusted_rate',\n",
    "    groupvar=\"state\",\n",
    "    data_structure='long'\n",
    ")\n",
    "g_individual.legend().remove()\n",
    "plt.ylabel(\"Deaths per 100,000 standard population\")\n",
    "plt.title(\"Death rate by year for individual states\")\n",
    "plt.show()"
   ]
  },
  {
   "cell_type": "markdown",
   "id": "ab8eea68",
   "metadata": {},
   "source": [
    "Clearly, by looking at individual state trajectories, we can see there are is a clear separation of states small and large increases in reported opioid death rates.\n",
    "\n",
    "\n",
    "With these drastic increases for some states, the rate of change appears to be highly correlated with the most recent reported death rates.\n",
    "\n",
    "\n",
    "Therefore, in subsequent exploration, I compare death rates in 2019 amongst individual states (note another approach would be to look at model outputs using exponential growth functions in a hiearchical linear model format). "
   ]
  },
  {
   "cell_type": "markdown",
   "id": "5c94ae7f",
   "metadata": {},
   "source": [
    "### Investigate distribution of 2019 synthetic opioid overdoses across states"
   ]
  },
  {
   "cell_type": "code",
   "execution_count": null,
   "id": "6064f65f",
   "metadata": {},
   "outputs": [],
   "source": [
    "#2019,synthetic categorical bar plot organized from smallest to largest\n",
    "is_2019 = state_df.year=='2019'\n",
    "state_2019_synthetic_sorted_df = (\n",
    "    state_df\n",
    "    .loc[(is_2019 & is_synthetic_type & ~is_total)]\n",
    "    .sort_values(by='age_adjusted_rate',ascending=False)\n",
    ")"
   ]
  },
  {
   "cell_type": "code",
   "execution_count": null,
   "id": "e64a3075",
   "metadata": {},
   "outputs": [],
   "source": [
    "#median state death rate for comparison to individual\n",
    "median_state_death_rate = state_2019_synthetic_sorted_df.age_adjusted_rate.median()"
   ]
  },
  {
   "cell_type": "code",
   "execution_count": null,
   "id": "d04f54da",
   "metadata": {},
   "outputs": [],
   "source": [
    "#plot a histogram\n",
    "sns.displot(state_2019_synthetic_sorted_df,x='age_adjusted_rate',bins=20,rug=True)\n",
    "plt.vlines(\n",
    "    x=median_state_death_rate,\n",
    "    ymin=0,ymax=6,\n",
    "    colors='black'\n",
    ")\n",
    "plt.xlabel(\"Deaths per 100,000 standard population\")\n",
    "plt.title(\"Frequency of synthetic opioid (other than methadone)\\nstate death rates for the year 2019\")\n",
    "plt.show()"
   ]
  },
  {
   "cell_type": "markdown",
   "id": "9821cc41",
   "metadata": {},
   "source": [
    "As can be seen from state trajectories, the distribution is heavily skewed towards small death rates.\n",
    "\n",
    "The black line in the figure represents the 50% mark for death rates. This means that the majority of state death rates are under 11 deaths per 100k.It also appears that there may be several clusters of state death rates that will help us \"categorize\" state groupings.\n",
    "\n",
    "Now the question is: what are these states? Are they clustered in one region? If so, we could allocate our resources (and future analyses) to understanding how to help these states or uncover underlying causes."
   ]
  },
  {
   "cell_type": "code",
   "execution_count": null,
   "id": "aa7d09a3",
   "metadata": {},
   "outputs": [],
   "source": [
    "plt.figure(figsize=(8,10))\n",
    "g = sns.barplot(\n",
    "    data=state_2019_synthetic_sorted_df,\n",
    "    x='age_adjusted_rate',y='state'\n",
    ")\n",
    "\n",
    "plt.vlines(x=median_state_death_rate,ymin=-1,ymax=51,colors='black')\n",
    "\n",
    "plt.xlabel(\"Deaths per 100,000 standard population\")\n",
    "plt.title(\n",
    "    \"Frequency of synthetic opioid (other than methadone) state death rates\\n\"+\n",
    "    \"ranked from largest to smallest death rates for the year 2019\"\n",
    ")\n",
    "plt.show()"
   ]
  },
  {
   "cell_type": "markdown",
   "id": "4791ed38",
   "metadata": {},
   "source": [
    "From the list of states ranked from highest to lowest death rates, one can see that they are clustered in the northeast/east coast region (for the most part).\n",
    "\n",
    "But, this bar chart only does not allow us to quickly visualize the spatial relationship amongst states. For this, we need to plot it out on a USA map..."
   ]
  },
  {
   "cell_type": "markdown",
   "id": "3da36839",
   "metadata": {},
   "source": [
    "### Mapping 2019 State Death Rates to determine spatial associations/groupings"
   ]
  },
  {
   "cell_type": "markdown",
   "id": "0cf16b41",
   "metadata": {},
   "source": [
    "Note, this uses plotly (interactive tool). Hover over individual states\n",
    "to view the quantitative metrics."
   ]
  },
  {
   "cell_type": "code",
   "execution_count": null,
   "id": "b13f35c4",
   "metadata": {},
   "outputs": [],
   "source": [
    "#plotly only accepts state abbreviations if not using GEOJSON\n",
    "state_abbrevs = {'Alabama': 'AL',\n",
    "        'Alaska': 'AK',\n",
    "        'Arizona': 'AZ',\n",
    "        'Arkansas': 'AR',\n",
    "        'California': 'CA',\n",
    "        'Colorado': 'CO',\n",
    "        'Connecticut': 'CT',\n",
    "        'Delaware': 'DE',\n",
    "        'District of Columbia': 'DC',\n",
    "        'Florida': 'FL',\n",
    "        'Georgia': 'GA',\n",
    "        'Hawaii': 'HI',\n",
    "        'Idaho': 'ID',\n",
    "        'Illinois': 'IL',\n",
    "        'Indiana': 'IN',\n",
    "        'Iowa': 'IA',\n",
    "        'Kansas': 'KS',\n",
    "        'Kentucky': 'KY',\n",
    "        'Louisiana': 'LA',\n",
    "        'Maine': 'ME',\n",
    "        'Maryland': 'MD',\n",
    "        'Massachusetts': 'MA',\n",
    "        'Michigan': 'MI',\n",
    "        'Minnesota': 'MN',\n",
    "        'Mississippi': 'MS',\n",
    "        'Missouri': 'MO',\n",
    "        'Montana': 'MT',\n",
    "        'Nebraska': 'NE',\n",
    "        'Nevada': 'NV',\n",
    "        'New Hampshire': 'NH',\n",
    "        'New Jersey': 'NJ',\n",
    "        'New Mexico': 'NM',\n",
    "        'New York': 'NY',\n",
    "        'North Carolina': 'NC',\n",
    "        'North Dakota': 'ND',\n",
    "        'Ohio': 'OH',\n",
    "        'Oklahoma': 'OK',\n",
    "        'Oregon': 'OR',\n",
    "        'Pennsylvania': 'PA',\n",
    "        'Rhode Island': 'RI',\n",
    "        'South Carolina': 'SC',\n",
    "        'South Dakota': 'SD',\n",
    "        'Tennessee': 'TN',\n",
    "        'Texas': 'TX',\n",
    "        'Utah': 'UT',\n",
    "        'Vermont': 'VT',\n",
    "        'Virginia': 'VA',\n",
    "        'Washington': 'WA',\n",
    "        'West Virginia': 'WV',\n",
    "        'Wisconsin': 'WI',\n",
    "        'Wyoming': 'WY'}"
   ]
  },
  {
   "cell_type": "code",
   "execution_count": null,
   "id": "ee65ca64",
   "metadata": {},
   "outputs": [],
   "source": [
    "state_2019_synthetic_sorted_df['State'] = (\n",
    "    state_2019_synthetic_sorted_df['state']\n",
    "    .map(state_abbrevs)\n",
    ")"
   ]
  },
  {
   "cell_type": "markdown",
   "id": "ab279627",
   "metadata": {},
   "source": [
    "#### First, lets map the death rates continuously (ie no groupings). "
   ]
  },
  {
   "cell_type": "code",
   "execution_count": null,
   "id": "40d95f51",
   "metadata": {},
   "outputs": [],
   "source": [
    "display(Markdown((\"### Frequency of synthetic opioid (other than methadone) state death rates for the year 2019\")))\n",
    "fig = px.choropleth(\n",
    "    state_2019_synthetic_sorted_df,\n",
    "    locations='State', \n",
    "    locationmode='USA-states',\n",
    "    color='age_adjusted_rate',\n",
    "    scope=\"usa\",\n",
    "    labels={'age_adjusted_rate':'Death Rate'}    \n",
    ")\n",
    "fig.show()"
   ]
  },
  {
   "cell_type": "markdown",
   "id": "c6412321",
   "metadata": {},
   "source": [
    "Clearly, from the map, we can see the highest ranked death rates of states are clustered in the north east with one cluster below New york and one above. Note, the northern states of MT,WY,ND do not report opioid deaths.\n",
    "\n",
    "\n",
    "But to better describe this relationship (and evidence that there may be groupings from our distribution), lets use KMeans Clustering to group."
   ]
  },
  {
   "cell_type": "markdown",
   "id": "b3eba9c5",
   "metadata": {},
   "source": [
    "### Using KMeans clustering to group state death rates"
   ]
  },
  {
   "cell_type": "code",
   "execution_count": null,
   "id": "43a74bd1",
   "metadata": {},
   "outputs": [],
   "source": [
    "from sklearn.cluster import KMeans\n",
    "kmeans = KMeans(3,random_state=100)"
   ]
  },
  {
   "cell_type": "code",
   "execution_count": null,
   "id": "bfc17c3d",
   "metadata": {},
   "outputs": [],
   "source": [
    "# make a Kmeans cluster model and assign the cluster to each state\n",
    "kmeans_groups = kmeans.fit_predict(\n",
    "    (state_2019_synthetic_sorted_df\n",
    "         [['age_adjusted_rate']]\n",
    "         .fillna(median_state_death_rate)),\n",
    "    \n",
    "    ) + 1\n",
    "state_2019_synthetic_sorted_df['kmeans_cluster'] = kmeans_groups"
   ]
  },
  {
   "cell_type": "code",
   "execution_count": null,
   "id": "872a4b90",
   "metadata": {},
   "outputs": [],
   "source": [
    "cluster_name_map = {\n",
    "    3:'High',\n",
    "    1:'Medium',\n",
    "    2:'Low',\n",
    "    -1:'Missing data'\n",
    "}"
   ]
  },
  {
   "cell_type": "code",
   "execution_count": null,
   "id": "ab802427",
   "metadata": {},
   "outputs": [],
   "source": [
    "#needed to impute missing values. Now I am going to add back in the missing values for viz\n",
    "is_na_rate = state_2019_synthetic_sorted_df.age_adjusted_rate.isna()\n",
    "state_2019_synthetic_sorted_df.loc[is_na_rate,'kmeans_cluster'] = -1"
   ]
  },
  {
   "cell_type": "code",
   "execution_count": null,
   "id": "0ba73b5c",
   "metadata": {},
   "outputs": [],
   "source": [
    "state_2019_synthetic_sorted_df['Death Rate Cluster'] = (\n",
    "    state_2019_synthetic_sorted_df\n",
    "    ['kmeans_cluster']\n",
    "    .map(cluster_name_map)\n",
    ")"
   ]
  },
  {
   "cell_type": "markdown",
   "id": "b910230c",
   "metadata": {},
   "source": [
    "Just from looking at the data, we see our exploratory insights now explicit. \n",
    "\n",
    "That is, the same northeastern states we saw, are now in the same cluster"
   ]
  },
  {
   "cell_type": "code",
   "execution_count": null,
   "id": "0d865fc0",
   "metadata": {
    "scrolled": true
   },
   "outputs": [],
   "source": [
    "display(Markdown((\"# Frequency of synthetic opioid (other than methadone) state death rates for the year 2019\")))\n",
    "fig = px.choropleth(\n",
    "    state_2019_synthetic_sorted_df,\n",
    "    locations='State', \n",
    "    locationmode='USA-states',\n",
    "    color='Death Rate Cluster',\n",
    "    scope=\"usa\",\n",
    "    labels={'age_adjusted_rate':'Death Rate'},\n",
    "    title='Synthetic opioid death rates for the year 2019'\n",
    ")\n",
    "fig.show()"
   ]
  },
  {
   "cell_type": "markdown",
   "id": "e6844a4d",
   "metadata": {},
   "source": [
    "## Next steps\n",
    "\n",
    "(1) to hone in on at a county level within the states of this region to further understand the geographic make up of this trend available in the HEAL platform.\n",
    "\n",
    "(2) Predict and/or explain overdoses with social determinants by leveraging other datasets within the HEAL platform."
   ]
  }
 ],
 "metadata": {
  "interpreter": {
   "hash": "788854e2bbc3d20cc56c650837a4ed1f51f3b262433e3e3955cbde64816cf559"
  },
  "kernelspec": {
   "display_name": "Python 3",
   "language": "python",
   "name": "python3"
  },
  "language_info": {
   "codemirror_mode": {
    "name": "ipython",
    "version": 3
   },
   "file_extension": ".py",
   "mimetype": "text/x-python",
   "name": "python",
   "nbconvert_exporter": "python",
   "pygments_lexer": "ipython3",
   "version": "3.9.4"
  }
 },
 "nbformat": 4,
 "nbformat_minor": 5
}
