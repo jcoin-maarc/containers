{
 "cells": [
  {
   "cell_type": "markdown",
   "metadata": {},
   "source": [
    "# Opioid Related Deaths, Opioid Prevalence, and Changes in Public Policy\n",
    "#### J Montgomery Maxwell\n",
    "#### 06/28/2021"
   ]
  },
  {
   "cell_type": "markdown",
   "metadata": {},
   "source": [
    "This notebook is a snapshot of publicly available data from HEAL and includes the DEA-ARCOS, CDC WONDER, and PDAPS datasets. Data visualizations illustrate the national rise in opioid related overdoses and suicides, the rise in prevalence of opioid pills, and the current stage of the opioid epidemic in select states.\n",
    "The graphics presented here should not be considered as part of a rigorous study of the opioid epidemic or of public health policy. The purpose of this notebook is merely to demonstrate the advantages and capabilities of using the University of Chicago's Center for Translational Data Science's HEAL Data Commons."
   ]
  },
  {
   "cell_type": "markdown",
   "metadata": {},
   "source": [
    "## Table of Contents\n",
    "1) Setup Notebook  \n",
    "2) Import Datasets  \n",
    "3) National Opioid Deaths and Opioid Prevalence  \n",
    "4) Data Cleaning  \n",
    "5) West Virginia's Counter Epidemic Laws  \n",
    "6) West Virginia's Opioid Overdoses And Suicides   \n",
    "7) Conclusions"
   ]
  },
  {
   "cell_type": "markdown",
   "metadata": {},
   "source": [
    "## 1) Setup Notebook"
   ]
  },
  {
   "cell_type": "code",
   "execution_count": null,
   "metadata": {},
   "outputs": [],
   "source": [
    "import numpy as np\n",
    "import pandas as pd\n",
    "import requests\n",
    "import warnings\n",
    "warnings.simplefilter(action='ignore', category=FutureWarning)\n",
    "import matplotlib.pyplot as plt\n",
    "from matplotlib.ticker import FuncFormatter\n",
    "import matplotlib.patches as mpatches\n",
    "from pathlib import Path\n",
    "import os"
   ]
  },
  {
   "cell_type": "code",
   "execution_count": null,
   "metadata": {},
   "outputs": [],
   "source": [
    "# list the export manifest name inside data folder\n",
    "HEAL_FOLDER = \"/home/jovyan/pd/data/healdata.org\"\n",
    "sorted(Path(HEAL_FOLDER).iterdir(), key=os.path.getmtime)"
   ]
  },
  {
   "cell_type": "code",
   "execution_count": null,
   "metadata": {},
   "outputs": [],
   "source": [
    "# List the files from the most recent manifest\n",
    "FILE_FOLDER = \"{0}/by-filename\"\n",
    "os.chdir(FILE_FOLDER.format(\"<MANIFEST_FOLDER>\"))\n",
    "os.listdir(\".\")"
   ]
  },
  {
   "cell_type": "markdown",
   "metadata": {},
   "source": [
    "Above is the directory list of the currently available DEA ARCOS, PDAPS, and CDC WONDER datasets."
   ]
  },
  {
   "cell_type": "markdown",
   "metadata": {},
   "source": [
    "### Common Code for Graphics"
   ]
  },
  {
   "cell_type": "code",
   "execution_count": null,
   "metadata": {},
   "outputs": [],
   "source": [
    "def thousands(x, pos):\n",
    "    return \"%1.0fK\" % (x * 1e-3)\n",
    "\n",
    "def millions(x, pos):\n",
    "    return \"%1.0fM\" % round((x * 1e-6), 4)\n",
    "\n",
    "def percents(x, pos):\n",
    "    return f\"{round(x, 4)}%\""
   ]
  },
  {
   "cell_type": "markdown",
   "metadata": {},
   "source": [
    "## 2) Import Datasets"
   ]
  },
  {
   "cell_type": "markdown",
   "metadata": {},
   "source": [
    "### Import DEA ARCOS"
   ]
  },
  {
   "cell_type": "code",
   "execution_count": null,
   "metadata": {},
   "outputs": [],
   "source": [
    "arcos_drug_list = pd.read_csv(\"./dea_arcos_drug_list.tsv\", sep=\"\\t\")\n",
    "arcos_df = pd.read_csv(\"./dea_arcos_county_population.tsv\", sep=\"\\t\")\n",
    "arcos_df1 = pd.read_csv(\"./dea_arcos_combined_county_annual.tsv\", sep=\"\\t\")\n",
    "arcos_state_pop = pd.read_csv(\"./dea_arcos_state_population.tsv\", sep=\"\\t\")\n",
    "\n",
    "arcos_drug_list = arcos_drug_list.drop(['Unnamed: 0'], axis = 1)\n",
    "\n",
    "arcos_df[\"KEY\"] = arcos_df[\"BUYER_COUNTY\"] + ', ' + arcos_df[\"BUYER_STATE\"] + \", \" + arcos_df[\"year\"].astype(str)\n",
    "arcos_df = arcos_df[[\"KEY\", \"BUYER_COUNTY\", \"BUYER_STATE\", \"year\", \"population\"]]\n",
    "\n",
    "arcos_df1[\"KEY\"] = arcos_df1[\"BUYER_COUNTY\"] + ', ' + arcos_df1[\"BUYER_STATE\"]+ \", \" + arcos_df1[\"year\"].astype(str)\n",
    "arcos_df1 = arcos_df1[[\"KEY\", \"BUYER_STATE\", \"count\", \"DOSAGE_UNIT\"]]\n",
    "arcos_df1 = arcos_df1[arcos_df1[\"KEY\"].notna()]\n",
    "\n",
    "counts = arcos_df1.set_index(\"KEY\")[\"count\"].to_dict()\n",
    "doses = arcos_df1.set_index(\"KEY\")[\"DOSAGE_UNIT\"].to_dict()\n",
    "\n",
    "arcos_df[\"count\"] = arcos_df[\"KEY\"].map(counts)\n",
    "arcos_df[\"dosages\"] = arcos_df[\"KEY\"].map(doses)\n",
    "arcos_df[\"pills per capita\"] = arcos_df[\"count\"] / arcos_df[\"population\"]\n",
    "\n",
    "display(arcos_drug_list)\n",
    "display(arcos_df.head(5))"
   ]
  },
  {
   "cell_type": "markdown",
   "metadata": {},
   "source": [
    "Import the DEA ARCOS datasets for county and state populations from 2006 to 2014, and for the total pharmacy and practitioner pill counts by county and year. The county population and pill counts datasets are combined using a common key (county name, state name, year). An additional feature is added, 'pills per capita' which is the number of opioid pills per person in each county. Some counties have an abnormally large ratio of opioid pills per person; however these are from low county population sizes.\n",
    "\n",
    "DEA ARCOS: https://www.deadiversion.usdoj.gov/arcos/index.html"
   ]
  },
  {
   "cell_type": "markdown",
   "metadata": {},
   "source": [
    "### Import PDAPS"
   ]
  },
  {
   "cell_type": "code",
   "execution_count": null,
   "metadata": {},
   "outputs": [],
   "source": [
    "recmj = pd.read_excel(\"./20170216-RM-Stat-Data.xlsx\")\n",
    "naloxone = pd.read_excel(\"./Naloxone_Data_09112020.xlsx\")\n",
    "gsl = pd.read_excel(\"./20180810_Good_Samaritan_Law_Stat_Data.xlsx\")\n",
    "\n",
    "recmj = recmj[[\"Jurisdictions\", \"Effective Date\", \"rm-rmlaw_Yes\"]]\n",
    "recmj[\"rm-rmlaw_Yes\"] = recmj[\"rm-rmlaw_Yes\"].map(\n",
    "    lambda x: x if x == \"1\" else \"0\"\n",
    ")\n",
    "recmj.columns = [\"Jurisdictions\", \"Effective Date\", 'rec_marijuana']\n",
    "\n",
    "naloxone = naloxone[[\"Jurisdictions\", \"Effective Date\", \"naaddressoaayn\", \n",
    "                     \"nahealthcrimproyn\", \"naloxone-thirdparty\"]]\n",
    "naloxone[\"nahealthcrimproyn\"] = naloxone[\"nahealthcrimproyn\"].map(\n",
    "    lambda x: x if x == \"1\" else \"0\"\n",
    ")\n",
    "naloxone[\"naloxone-thirdparty\"] = naloxone[\"naloxone-thirdparty\"].map(\n",
    "    lambda x: x if x == \"1\" else \"0\"\n",
    ")\n",
    "naloxone.columns = [\"Jurisdictions\", \"Effective Date\", \"naloxone-access\", \n",
    "                     \"prescriber-immunity\", \"naloxone-thirdparty\"]\n",
    "\n",
    "gsl = gsl[[\"Jurisdictions\", \"Effective Date\", \"goodsam-law\"]]"
   ]
  },
  {
   "cell_type": "markdown",
   "metadata": {},
   "source": [
    "Import the PDAPS (Prescription Drug Abuse Policy System) dataset for states' policies regarding recreational marijuana, good samaritan laws related to reporting opioid abuse, and the availability of naloxone (competitive opioid receptor antagonist). Only data relevant to the introduction of these policies is kept and the data is re-encoded for ease of use and explainability.  \n",
    "\n",
    "recmj: Recreational Marijuana  \n",
    "naloxone: Naloxone Accesss  \n",
    "gsl: Good Samaritan Laws  \n",
    "\n",
    "PDAPS: http://pdaps.org "
   ]
  },
  {
   "cell_type": "markdown",
   "metadata": {},
   "source": [
    "### Import CDC WONDER"
   ]
  },
  {
   "cell_type": "code",
   "execution_count": null,
   "metadata": {},
   "outputs": [],
   "source": [
    "annual_overdoses = pd.read_csv(\"./CDC_WONDER_unintentional_overdoses.tsv\", sep=\"\\t\")\n",
    "annual_suicides = pd.read_csv(\"./CDC_WONDER_suicide_overdoses.tsv\", sep=\"\\t\")\n",
    "monthly_overdoses = pd.read_csv(\"./monthly_unintentional_overdoses.tsv\", sep=\"\\t\")\n",
    "\n",
    "annual_overdoses = annual_overdoses.drop([\"Unnamed: 0\", \"Notes\", \"Year Code\", \"State Code\"], axis=1)\n",
    "annual_overdoses = annual_overdoses[annual_overdoses[\"Deaths\"].notna()]\n",
    "annual_overdoses[\"Year\"] = annual_overdoses[\"Year\"].map(lambda x: str(x)[:-2])\n",
    "annual_overdoses['% of Population'] = (annual_overdoses['Deaths']/annual_overdoses['Population'])*100\n",
    "\n",
    "annual_suicides = annual_suicides.drop(['Unnamed: 0', 'Notes', 'State Code', 'Year Code'], axis = 1)\n",
    "annual_suicides = annual_suicides[annual_suicides['Deaths'].notna()]\n",
    "annual_suicides[\"Year\"] = annual_suicides[\"Year\"].map(lambda x: str(x)[:-2])\n",
    "annual_suicides['% of Population'] = (annual_suicides['Deaths']/annual_suicides['Population'])*100\n",
    "\n",
    "monthly_overdoses = monthly_overdoses.drop(['Notes', 'State Code', 'Year Code', 'Population', 'Crude Rate'], axis = 1)\n",
    "monthly_overdoses = monthly_overdoses[monthly_overdoses['Deaths'].notna()]\n",
    "monthly_overdoses[\"Year\"] = monthly_overdoses[\"Year\"].map(lambda x: str(x)[:-2])\n",
    "\n",
    "display(annual_overdoses.head(5))\n",
    "display(annual_suicides.head(5))"
   ]
  },
  {
   "cell_type": "markdown",
   "metadata": {},
   "source": [
    "Import the CDC WONDER datasets for annual, recorded opioid related unintentional overdoses and suicides, and monthly unintentional opioid overdoses. HEAL hosts the entire CDC WONDER dataset as well as these filtered datasets. Below are links to the CDC WONDER codebook explaining the ICD (International Classifications of Diseases) codes used in filtering for opioid related deaths and to the CDC WONDER website.\n",
    "\n",
    "CDC WONDER: https://wonder.cdc.gov  \n",
    "ICD Opioid Codebook: https://mnprc.org/wp-content/uploads/2019/01/using-icd-10-codes-to-assess-opioid-related-overdose-deaths.pdf"
   ]
  },
  {
   "cell_type": "markdown",
   "metadata": {},
   "source": [
    "## 3) National Opioid Deaths And Opioid Prevalence"
   ]
  },
  {
   "cell_type": "markdown",
   "metadata": {},
   "source": [
    "### National Unintentional Opioid Overdoses And Suicides"
   ]
  },
  {
   "cell_type": "code",
   "execution_count": null,
   "metadata": {},
   "outputs": [],
   "source": [
    "national_overdoses = annual_overdoses.groupby(\"Year\")[\"Deaths\"].sum() + annual_suicides.groupby(\"Year\")[\"Deaths\"].sum()\n",
    "fig, ax = plt.subplots(figsize=(8, 5), dpi=100)\n",
    "ax.vlines(\n",
    "    x=national_overdoses.index,\n",
    "    ymin=0,\n",
    "    ymax=national_overdoses,\n",
    "    color=\"grey\",        \n",
    "    alpha=1.0,\n",
    "    linewidth=4,\n",
    ")\n",
    "\n",
    "ax.set_title(f\"Annual National Opioid Overdoses And Suicides\", size=14)\n",
    "plt.grid(axis=\"y\", alpha=0.3)\n",
    "ax.set_xlabel(\"Year\", size=12)\n",
    "ax.set_ylabel(\"Deaths\", size=11)\n",
    "formatter = FuncFormatter(thousands)\n",
    "ax.yaxis.set_major_formatter(formatter)\n",
    "fig.autofmt_xdate(rotation=45)"
   ]
  },
  {
   "cell_type": "markdown",
   "metadata": {},
   "source": [
    "We see above that since 2000 the annual number of unintentional opioid overdoses and suicides has increased by more than a factor five and that since 2010 the annual number of deaths has more than doubled."
   ]
  },
  {
   "cell_type": "markdown",
   "metadata": {},
   "source": [
    "### National Opioid Prevalence"
   ]
  },
  {
   "cell_type": "code",
   "execution_count": null,
   "metadata": {},
   "outputs": [],
   "source": [
    "opioids_yearly = arcos_df.groupby('year')['count'].sum()\n",
    "\n",
    "fig, ax = plt.subplots(figsize=(8, 5), dpi=100)\n",
    "ax.plot(opioids_yearly, color = 'grey')\n",
    "ax.set_title(f\"Annual National Pharmacy and Practitioner Pill Count\", size=14)\n",
    "plt.grid(axis=\"y\", alpha=0.3)\n",
    "ax.set_xlabel(\"Year\", size=12)\n",
    "ax.set_ylabel(\"Pill Count\", size=11)\n",
    "formatter = FuncFormatter(millions)\n",
    "ax.yaxis.set_major_formatter(formatter)\n",
    "fig.autofmt_xdate(rotation=45)"
   ]
  },
  {
   "cell_type": "markdown",
   "metadata": {},
   "source": [
    "We see above that the number of opioid pills in the United States has increased steadily from 2006 until 2013 when a significant decline occurred in the annual opioid pill count. It should be noted that the count only records pharmacy and practitioner's pill counts and does not include any illicit opioids. The types of opioids included in the count are listed in the arcos_drug_list dataframe shown previously."
   ]
  },
  {
   "cell_type": "markdown",
   "metadata": {},
   "source": [
    "### States With The Highest Annual Overdose Rate"
   ]
  },
  {
   "cell_type": "code",
   "execution_count": null,
   "metadata": {},
   "outputs": [],
   "source": [
    "top_states = (\n",
    "    annual_overdoses.groupby(\"Year\")[\"State\", \"% of Population\"]\n",
    "    .apply(lambda grp: grp.nlargest(1, \"% of Population\"))\n",
    "    .reset_index()\n",
    ")\n",
    "top_states['State_and_Year'] = top_states['State'] + ', ' + top_states['Year']\n",
    "top_states = top_states.drop(['Year', 'level_1', 'State'], axis = 1)\n",
    "\n",
    "fig, ax = plt.subplots(figsize=(8, 5), dpi=100)\n",
    "ax.vlines(\n",
    "    x=top_states['State_and_Year'],\n",
    "    ymin=0,\n",
    "    ymax=top_states['% of Population'],\n",
    "    color=\"grey\",        \n",
    "    alpha=1.0,\n",
    "    linewidth=2.5,\n",
    ")\n",
    "\n",
    "ax.set_title(f\"Unintentional Opioid Overdoses\", size=14)\n",
    "plt.grid(axis=\"y\", alpha=0.3)\n",
    "ax.set_xlabel(\"State and Year\", size=12)\n",
    "ax.set_ylabel(\"Overdoses As Percent \\n Of Population\", size=11)\n",
    "formatter = FuncFormatter(percents)\n",
    "ax.yaxis.set_major_formatter(formatter)\n",
    "fig.autofmt_xdate(rotation=45)"
   ]
  },
  {
   "cell_type": "markdown",
   "metadata": {},
   "source": [
    "In the last twenty years West Virginia has consistently had the highest percentage of unintentional opioid overdose deaths. West Virginia is the leading state in thirteen of the last twenty years including during the time period where there was a significant increase in annual opioid related overdoses and suicides (see figure 1).\n",
    "\n",
    "Going forward we will take a closer look at West Virginia's statewide opioid overdose and suicide mortality rate and respective changes in anti-epidemic policy."
   ]
  },
  {
   "cell_type": "markdown",
   "metadata": {},
   "source": [
    "## 4) Data Cleaning"
   ]
  },
  {
   "cell_type": "code",
   "execution_count": null,
   "metadata": {},
   "outputs": [],
   "source": [
    "overdoses_wv = annual_overdoses[annual_overdoses[\"State\"] == \"West Virginia\"].reset_index(drop=True)\n",
    "overdoses_wv = overdoses_wv.reset_index()\n",
    "\n",
    "suicides_wv = annual_suicides[annual_suicides[\"State\"] == \"West Virginia\"].reset_index(drop=True)\n",
    "suicides_wv = suicides_wv.reset_index()\n",
    "\n",
    "monthly_overdoses_wv = monthly_overdoses[monthly_overdoses[\"State\"] == \"West Virginia\"].reset_index(drop=True)\n",
    "monthly_overdoses_wv = monthly_overdoses_wv.reset_index()\n",
    "\n",
    "years  = ['2006', '2007', '2008', '2009', '2010', '2011', '2012',\n",
    "          '2013', '2014', '2015', '2016', '2017', '2018', '2019']\n",
    "ticks = []\n",
    "for year in years:\n",
    "    index = monthly_overdoses_wv.index[monthly_overdoses_wv['Year'] == year][0]\n",
    "    ticks.append(index)"
   ]
  },
  {
   "cell_type": "markdown",
   "metadata": {},
   "source": [
    "For West Virginia we find the number of unintentional opioid overdoses and opioid related suicides."
   ]
  },
  {
   "cell_type": "markdown",
   "metadata": {},
   "source": [
    "## 5) Introduction Of Counter Epidemic Laws in West Virginia"
   ]
  },
  {
   "cell_type": "code",
   "execution_count": null,
   "metadata": {},
   "outputs": [],
   "source": [
    "display(recmj[recmj['Jurisdictions'] == 'West Virginia'])\n",
    "display(gsl[gsl['Jurisdictions'] == 'West Virginia'])\n",
    "display(naloxone[naloxone['Jurisdictions'] == 'West Virginia'])"
   ]
  },
  {
   "cell_type": "markdown",
   "metadata": {},
   "source": [
    "Recreational Marijuana: West Virginia has not introduced any recreational marijuana laws.\n",
    "\n",
    "Good Samaritan Laws: In 2015, West Virginia introduced legal protections for reporting drug overdoses.\n",
    "\n",
    "Naloxone Access: In 2015, West Virginia introduced laws permitting prescriptions and access to naloxone."
   ]
  },
  {
   "cell_type": "markdown",
   "metadata": {},
   "source": [
    "## 6) West Virginia's Opioid Overdoses and Suicides"
   ]
  },
  {
   "cell_type": "code",
   "execution_count": null,
   "metadata": {},
   "outputs": [],
   "source": [
    "fig, ax = plt.subplots(figsize=(10, 6), dpi=100)\n",
    "\n",
    "lns1 = ax.bar(overdoses_wv['Year'], overdoses_wv['Deaths'], label='Overdoses', width=0.5, color='grey')\n",
    "lns2 = ax.bar(suicides_wv['Year'], suicides_wv['Deaths'], label='Overdoses', width=0.5, color='red')\n",
    "\n",
    "ax.set_title(f\" West Virginia's Annual Opioid Overdoses and Suicides\", size=14)\n",
    "ax.set_xlabel(\"Year\", size=12)\n",
    "ax.set_ylabel(\"Deaths\", size=11)\n",
    "red_patch = mpatches.Patch(color='red', label='Suicides')\n",
    "grey_patch = mpatches.Patch(color='grey', label='Overdoses')\n",
    "plt.legend(handles=[grey_patch, red_patch]) \n",
    "\n",
    "fig.autofmt_xdate(rotation=45)\n",
    "plt.show()"
   ]
  },
  {
   "cell_type": "code",
   "execution_count": null,
   "metadata": {},
   "outputs": [],
   "source": [
    "fig, ax = plt.subplots(figsize=(10, 6), dpi=100)\n",
    "plt.xticks(ticks)\n",
    "start = monthly_overdoses_wv.index[monthly_overdoses_wv['Year'] == '2006'][0]\n",
    "end = monthly_overdoses_wv.index[monthly_overdoses_wv['Year'] == '2019'][1]\n",
    "monthly_overdoses_wv['RollingYrAvg'] = monthly_overdoses_wv['Deaths'].rolling(6).mean() \n",
    "\n",
    "lns1 = ax.vlines(\n",
    "    x=monthly_overdoses_wv.iloc[start:end].index,\n",
    "    ymin=0,\n",
    "    ymax=monthly_overdoses_wv['Deaths'].iloc[start:end],\n",
    "    color=\"grey\",\n",
    "    alpha=1.0,\n",
    "    linewidth=1.0,\n",
    "    label = 'Deaths'\n",
    ")\n",
    "lns2 = ax.plot(monthly_overdoses_wv['RollingYrAvg'].iloc[start:end], color = 'green', label = 'Deaths Rolling Avg.')\n",
    "\n",
    "ax.set_title(f\"West Virginia's Monthly Unintentional Overdose Deaths\", size=14)\n",
    "ax.set_xlabel(\"Year\", size=12)\n",
    "ax.set_xticklabels(years)\n",
    "ax.set_ylabel(\"Unintentional Overdose Deaths\", size=11)\n",
    "ax.legend(loc=2)\n",
    "fig.autofmt_xdate(rotation=45)\n",
    "plt.show()"
   ]
  },
  {
   "cell_type": "markdown",
   "metadata": {},
   "source": [
    "Since 2000 the annual number of reported unintentional opioid overdoses has grown from 24 in 2000 to over 600 in 2019 and since 2010 the annual number of unintentional overdoses has nearly doubled. The number of opioid related suicides has remained relatively steady since 2000. Surprisingly, there does not appear to be any decrease to the number of annual opioid overdoses following the 2015 introduction of good samaritan laws and naloxone access laws.\n",
    "\n",
    "The second image looks at West Virginia's monthly unintentional overdoses with a 6 month rolling average. Here we can see there is not a large level of variation to the number of deaths on a monthly basis but the 6 month rolling average has a clear upward trend.\n",
    "\n",
    "*The bar graphs for overdoses and suicides are superimposed, not stacked.    \n",
    "*Some data is missing at a monthly level, particularly prior to 2010."
   ]
  },
  {
   "cell_type": "markdown",
   "metadata": {},
   "source": [
    "## 7) Conclusions"
   ]
  },
  {
   "cell_type": "markdown",
   "metadata": {},
   "source": [
    "In this notebook we first looked at (figure 1) the annual national opioid suicides and unintentional overdoses and in (figure 2) the annual national pharmacy and practitioner opioid pill counts. Next, we found (figure 3) the states each year who have the highest rate of unintentional opioid overdose deaths as a percentage of each state's respective population. Finally, we examined opioid related suicides and unintentional overdoses at the state level in West Virgina (figure 4 and 5) as well as the introduction of West Virginia's counter epidemic laws."
   ]
  }
 ],
 "metadata": {
  "kernelspec": {
   "display_name": "Python 3",
   "language": "python",
   "name": "python3"
  },
  "language_info": {
   "codemirror_mode": {
    "name": "ipython",
    "version": 3
   },
   "file_extension": ".py",
   "mimetype": "text/x-python",
   "name": "python",
   "nbconvert_exporter": "python",
   "pygments_lexer": "ipython3",
   "version": "3.9.4"
  }
 },
 "nbformat": 4,
 "nbformat_minor": 2
}
